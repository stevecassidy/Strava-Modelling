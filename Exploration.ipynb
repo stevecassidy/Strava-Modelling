{
 "cells": [
  {
   "cell_type": "markdown",
   "metadata": {},
   "source": [
    "# Exploring Strava Data\n",
    "\n",
    "Here we will explore some Strava data from a regular runner (Jordan) with a view to being able to build predictive models of derived attributes from the data. \n",
    "\n",
    "Data is downloaded from Strava and stored as .fit.gz files. We'll read these in and look at some summary statistics to explore the shape of the data. Then we'll try to derive some interesting metrics from each run with a view to a predictive model.\n",
    "\n"
   ]
  },
  {
   "cell_type": "code",
   "execution_count": 10,
   "metadata": {},
   "outputs": [],
   "source": [
    "import fitdecode\n",
    "import gzip\n",
    "import pandas"
   ]
  },
  {
   "cell_type": "code",
   "execution_count": 26,
   "metadata": {},
   "outputs": [],
   "source": [
    "%matplotlib inline"
   ]
  },
  {
   "cell_type": "markdown",
   "metadata": {},
   "source": [
    "In the sample file we find the following fields:\n",
    "```\n",
    "timestamp 2017-02-17 06:10:39+00:00\n",
    "position_lat -406188716\n",
    "position_long 1803403617\n",
    "distance 0.0\n",
    "enhanced_altitude -7.399999999999977\n",
    "altitude -7.399999999999977\n",
    "enhanced_speed 0.131\n",
    "speed 0.131\n",
    "cadence 0\n",
    "fractional_cadence 0.0\n",
    "```\n"
   ]
  },
  {
   "cell_type": "code",
   "execution_count": 136,
   "metadata": {},
   "outputs": [],
   "source": [
    "\n",
    "def read_fitgz(fname, fields):\n",
    "    \"\"\"Read data from a .fit.gz file and return a data frame\"\"\"\n",
    "        \n",
    "    rows = []\n",
    "    with gzip.open(fname, 'rb') as gz:\n",
    "        with fitdecode.FitReader(gz) as fit:\n",
    "            for frame in fit:\n",
    "                row = {}\n",
    "                if frame.frame_type == fitdecode.FIT_FRAME_DATA:\n",
    "\n",
    "                    if frame.name == 'record': \n",
    "                        for field in frame.fields:\n",
    "                            if field.name in fields:\n",
    "                                row[field.name] = frame.get_value(field.name, fallback=0)\n",
    "                if not row == {}:\n",
    "                    rows.append(row)\n",
    "\n",
    "    df = pandas.DataFrame(rows)\n",
    "    df.index = pandas.to_datetime(df.timestamp)\n",
    "    return df.drop(['timestamp'], axis=1)\n",
    "\n",
    "\n",
    "def fitgz_fieldnames(fname):\n",
    "    with gzip.open(fname, 'rb') as gz:\n",
    "        with fitdecode.FitReader(gz) as fit:\n",
    "            for frame in fit:\n",
    "                if isinstance(frame, fitdecode.records.FitDataMessage):\n",
    "                    if frame.name == 'record':\n",
    "                        return [f.name for f in frame.fields]\n",
    "\n",
    "\n",
    "def fitgz_summary(fname):\n",
    "    \"\"\"Generate summary statistics for a given fit.gz file\"\"\"\n",
    "\n",
    "    thefields = fitgz_fieldnames(fname)\n",
    "    df = read_fitgz(fname, thefields)\n",
    "\n",
    "    fields = ['heart_rate', 'speed', 'cadence']\n",
    "    result = {\n",
    "        'timestamp': df.index[0],\n",
    "        'distance': df.distance[-1],\n",
    "        'duration': (df.index[-1] - df.index[0]).seconds\n",
    "        }\n",
    "    for f in fields:\n",
    "        if f in df:\n",
    "            # get mean, var of this field\n",
    "            result[f+'_mean'] = df[f].mean()\n",
    "            result[f+'_var'] = df[f].var()\n",
    "    return result\n"
   ]
  },
  {
   "cell_type": "code",
   "execution_count": 121,
   "metadata": {},
   "outputs": [],
   "source": [
    "fname = \"data/jordan-activities/964335303.fit.gz\"\n",
    "\n",
    "thefields = fitgz_fieldnames(fname)\n",
    "df = read_fitgz(fname, thefields)"
   ]
  },
  {
   "cell_type": "code",
   "execution_count": 123,
   "metadata": {},
   "outputs": [
    {
     "data": {
      "text/html": [
       "<div>\n",
       "<style scoped>\n",
       "    .dataframe tbody tr th:only-of-type {\n",
       "        vertical-align: middle;\n",
       "    }\n",
       "\n",
       "    .dataframe tbody tr th {\n",
       "        vertical-align: top;\n",
       "    }\n",
       "\n",
       "    .dataframe thead th {\n",
       "        text-align: right;\n",
       "    }\n",
       "</style>\n",
       "<table border=\"1\" class=\"dataframe\">\n",
       "  <thead>\n",
       "    <tr style=\"text-align: right;\">\n",
       "      <th></th>\n",
       "      <th>position_lat</th>\n",
       "      <th>position_long</th>\n",
       "      <th>distance</th>\n",
       "      <th>enhanced_altitude</th>\n",
       "      <th>altitude</th>\n",
       "      <th>enhanced_speed</th>\n",
       "      <th>speed</th>\n",
       "      <th>heart_rate</th>\n",
       "      <th>cadence</th>\n",
       "      <th>fractional_cadence</th>\n",
       "    </tr>\n",
       "    <tr>\n",
       "      <th>timestamp</th>\n",
       "      <th></th>\n",
       "      <th></th>\n",
       "      <th></th>\n",
       "      <th></th>\n",
       "      <th></th>\n",
       "      <th></th>\n",
       "      <th></th>\n",
       "      <th></th>\n",
       "      <th></th>\n",
       "      <th></th>\n",
       "    </tr>\n",
       "  </thead>\n",
       "  <tbody>\n",
       "    <tr>\n",
       "      <th>2017-01-24 08:57:52+00:00</th>\n",
       "      <td>-406150875</td>\n",
       "      <td>1803094105</td>\n",
       "      <td>0.83</td>\n",
       "      <td>4.2</td>\n",
       "      <td>4.2</td>\n",
       "      <td>1.754</td>\n",
       "      <td>1.754</td>\n",
       "      <td>35</td>\n",
       "      <td>53</td>\n",
       "      <td>0.0</td>\n",
       "    </tr>\n",
       "    <tr>\n",
       "      <th>2017-01-24 08:57:56+00:00</th>\n",
       "      <td>-406150167</td>\n",
       "      <td>1803094623</td>\n",
       "      <td>8.48</td>\n",
       "      <td>-2.6</td>\n",
       "      <td>-2.6</td>\n",
       "      <td>1.689</td>\n",
       "      <td>1.689</td>\n",
       "      <td>36</td>\n",
       "      <td>53</td>\n",
       "      <td>0.0</td>\n",
       "    </tr>\n",
       "    <tr>\n",
       "      <th>2017-01-24 08:57:59+00:00</th>\n",
       "      <td>-406148998</td>\n",
       "      <td>1803094952</td>\n",
       "      <td>19.58</td>\n",
       "      <td>-5.2</td>\n",
       "      <td>-5.2</td>\n",
       "      <td>1.875</td>\n",
       "      <td>1.875</td>\n",
       "      <td>40</td>\n",
       "      <td>86</td>\n",
       "      <td>0.0</td>\n",
       "    </tr>\n",
       "    <tr>\n",
       "      <th>2017-01-24 08:58:01+00:00</th>\n",
       "      <td>-406148285</td>\n",
       "      <td>1803094919</td>\n",
       "      <td>25.84</td>\n",
       "      <td>-8.6</td>\n",
       "      <td>-8.6</td>\n",
       "      <td>2.081</td>\n",
       "      <td>2.081</td>\n",
       "      <td>43</td>\n",
       "      <td>86</td>\n",
       "      <td>0.0</td>\n",
       "    </tr>\n",
       "    <tr>\n",
       "      <th>2017-01-24 08:58:05+00:00</th>\n",
       "      <td>-406146758</td>\n",
       "      <td>1803094992</td>\n",
       "      <td>40.00</td>\n",
       "      <td>-12.4</td>\n",
       "      <td>-12.4</td>\n",
       "      <td>2.333</td>\n",
       "      <td>2.333</td>\n",
       "      <td>47</td>\n",
       "      <td>86</td>\n",
       "      <td>0.0</td>\n",
       "    </tr>\n",
       "  </tbody>\n",
       "</table>\n",
       "</div>"
      ],
      "text/plain": [
       "                           position_lat  position_long  distance  \\\n",
       "timestamp                                                          \n",
       "2017-01-24 08:57:52+00:00    -406150875     1803094105      0.83   \n",
       "2017-01-24 08:57:56+00:00    -406150167     1803094623      8.48   \n",
       "2017-01-24 08:57:59+00:00    -406148998     1803094952     19.58   \n",
       "2017-01-24 08:58:01+00:00    -406148285     1803094919     25.84   \n",
       "2017-01-24 08:58:05+00:00    -406146758     1803094992     40.00   \n",
       "\n",
       "                           enhanced_altitude  altitude  enhanced_speed  speed  \\\n",
       "timestamp                                                                       \n",
       "2017-01-24 08:57:52+00:00                4.2       4.2           1.754  1.754   \n",
       "2017-01-24 08:57:56+00:00               -2.6      -2.6           1.689  1.689   \n",
       "2017-01-24 08:57:59+00:00               -5.2      -5.2           1.875  1.875   \n",
       "2017-01-24 08:58:01+00:00               -8.6      -8.6           2.081  2.081   \n",
       "2017-01-24 08:58:05+00:00              -12.4     -12.4           2.333  2.333   \n",
       "\n",
       "                           heart_rate  cadence  fractional_cadence  \n",
       "timestamp                                                           \n",
       "2017-01-24 08:57:52+00:00          35       53                 0.0  \n",
       "2017-01-24 08:57:56+00:00          36       53                 0.0  \n",
       "2017-01-24 08:57:59+00:00          40       86                 0.0  \n",
       "2017-01-24 08:58:01+00:00          43       86                 0.0  \n",
       "2017-01-24 08:58:05+00:00          47       86                 0.0  "
      ]
     },
     "execution_count": 123,
     "metadata": {},
     "output_type": "execute_result"
    }
   ],
   "source": [
    "df.head()"
   ]
  },
  {
   "cell_type": "code",
   "execution_count": 122,
   "metadata": {},
   "outputs": [
    {
     "data": {
      "text/plain": [
       "<AxesSubplot:xlabel='timestamp'>"
      ]
     },
     "execution_count": 122,
     "metadata": {},
     "output_type": "execute_result"
    },
    {
     "data": {
      "image/png": "[encoded data removed]",
      "text/plain": [
       "<Figure size 432x288 with 1 Axes>"
      ]
     },
     "metadata": {
      "needs_background": "light"
     },
     "output_type": "display_data"
    }
   ],
   "source": [
    "df['speed'].plot()"
   ]
  },
  {
   "cell_type": "code",
   "execution_count": 124,
   "metadata": {},
   "outputs": [
    {
     "data": {
      "text/plain": [
       "<AxesSubplot:xlabel='timestamp'>"
      ]
     },
     "execution_count": 124,
     "metadata": {},
     "output_type": "execute_result"
    },
    {
     "data": {
      "image/png": "[encoded data removed]",
      "text/plain": [
       "<Figure size 432x288 with 1 Axes>"
      ]
     },
     "metadata": {
      "needs_background": "light"
     },
     "output_type": "display_data"
    }
   ],
   "source": [
    "df['heart_rate'].plot()"
   ]
  },
  {
   "cell_type": "code",
   "execution_count": 103,
   "metadata": {},
   "outputs": [
    {
     "data": {
      "text/plain": [
       "{'timestamp': Timestamp('2017-01-24 08:57:52+0000', tz='UTC'),\n",
       " 'distance': 8341.56,\n",
       " 'duration': Timedelta('0 days 00:41:10'),\n",
       " 'heart_rate_mean': 154.61165048543688,\n",
       " 'heart_rate_var': 355.41572768289575,\n",
       " 'speed_mean': 3.3543325242718454,\n",
       " 'speed_var': 0.13018731738242,\n",
       " 'cadence_mean': 83.86650485436893,\n",
       " 'cadence_var': 10.437123520657712}"
      ]
     },
     "execution_count": 103,
     "metadata": {},
     "output_type": "execute_result"
    }
   ],
   "source": [
    "fitgz_summary(fname)"
   ]
  },
  {
   "cell_type": "code",
   "execution_count": 137,
   "metadata": {},
   "outputs": [
    {
     "data": {
      "text/html": [
       "<div>\n",
       "<style scoped>\n",
       "    .dataframe tbody tr th:only-of-type {\n",
       "        vertical-align: middle;\n",
       "    }\n",
       "\n",
       "    .dataframe tbody tr th {\n",
       "        vertical-align: top;\n",
       "    }\n",
       "\n",
       "    .dataframe thead th {\n",
       "        text-align: right;\n",
       "    }\n",
       "</style>\n",
       "<table border=\"1\" class=\"dataframe\">\n",
       "  <thead>\n",
       "    <tr style=\"text-align: right;\">\n",
       "      <th></th>\n",
       "      <th>timestamp</th>\n",
       "      <th>distance</th>\n",
       "      <th>duration</th>\n",
       "      <th>speed_mean</th>\n",
       "      <th>speed_var</th>\n",
       "      <th>cadence_mean</th>\n",
       "      <th>cadence_var</th>\n",
       "      <th>heart_rate_mean</th>\n",
       "      <th>heart_rate_var</th>\n",
       "    </tr>\n",
       "  </thead>\n",
       "  <tbody>\n",
       "    <tr>\n",
       "      <th>0</th>\n",
       "      <td>2017-03-17 22:23:47+00:00</td>\n",
       "      <td>134.69</td>\n",
       "      <td>301</td>\n",
       "      <td>0.806154</td>\n",
       "      <td>0.405839</td>\n",
       "      <td>31.538462</td>\n",
       "      <td>925.435897</td>\n",
       "      <td>NaN</td>\n",
       "      <td>NaN</td>\n",
       "    </tr>\n",
       "    <tr>\n",
       "      <th>1</th>\n",
       "      <td>2017-03-17 23:02:55+00:00</td>\n",
       "      <td>39.59</td>\n",
       "      <td>305</td>\n",
       "      <td>0.080200</td>\n",
       "      <td>0.002465</td>\n",
       "      <td>12.000000</td>\n",
       "      <td>720.000000</td>\n",
       "      <td>NaN</td>\n",
       "      <td>NaN</td>\n",
       "    </tr>\n",
       "    <tr>\n",
       "      <th>2</th>\n",
       "      <td>2017-03-19 02:50:32+00:00</td>\n",
       "      <td>89.43</td>\n",
       "      <td>152</td>\n",
       "      <td>0.986000</td>\n",
       "      <td>0.463317</td>\n",
       "      <td>47.833333</td>\n",
       "      <td>559.366667</td>\n",
       "      <td>NaN</td>\n",
       "      <td>NaN</td>\n",
       "    </tr>\n",
       "    <tr>\n",
       "      <th>3</th>\n",
       "      <td>2017-03-19 03:15:57+00:00</td>\n",
       "      <td>108.57</td>\n",
       "      <td>153</td>\n",
       "      <td>0.961000</td>\n",
       "      <td>0.274510</td>\n",
       "      <td>29.625000</td>\n",
       "      <td>1006.553571</td>\n",
       "      <td>NaN</td>\n",
       "      <td>NaN</td>\n",
       "    </tr>\n",
       "    <tr>\n",
       "      <th>4</th>\n",
       "      <td>2017-03-20 08:33:57+00:00</td>\n",
       "      <td>4476.17</td>\n",
       "      <td>1887</td>\n",
       "      <td>2.517789</td>\n",
       "      <td>0.132758</td>\n",
       "      <td>81.474104</td>\n",
       "      <td>173.026327</td>\n",
       "      <td>129.10757</td>\n",
       "      <td>87.664382</td>\n",
       "    </tr>\n",
       "  </tbody>\n",
       "</table>\n",
       "</div>"
      ],
      "text/plain": [
       "                  timestamp  distance  duration  speed_mean  speed_var  \\\n",
       "0 2017-03-17 22:23:47+00:00    134.69       301    0.806154   0.405839   \n",
       "1 2017-03-17 23:02:55+00:00     39.59       305    0.080200   0.002465   \n",
       "2 2017-03-19 02:50:32+00:00     89.43       152    0.986000   0.463317   \n",
       "3 2017-03-19 03:15:57+00:00    108.57       153    0.961000   0.274510   \n",
       "4 2017-03-20 08:33:57+00:00   4476.17      1887    2.517789   0.132758   \n",
       "\n",
       "   cadence_mean  cadence_var  heart_rate_mean  heart_rate_var  \n",
       "0     31.538462   925.435897              NaN             NaN  \n",
       "1     12.000000   720.000000              NaN             NaN  \n",
       "2     47.833333   559.366667              NaN             NaN  \n",
       "3     29.625000  1006.553571              NaN             NaN  \n",
       "4     81.474104   173.026327        129.10757       87.664382  "
      ]
     },
     "execution_count": 137,
     "metadata": {},
     "output_type": "execute_result"
    }
   ],
   "source": [
    "import os\n",
    "dirname = 'data/jordan-activities'\n",
    "\n",
    "def fitgz_directory(dirname):\n",
    "    result = []\n",
    "    for fname in os.listdir(dirname):\n",
    "        if fname.endswith('.fit.gz'):\n",
    "            result.append(fitgz_summary(os.path.join(dirname, fname)))\n",
    "\n",
    "    return pandas.DataFrame(result)\n",
    "\n",
    "allruns = fitgz_directory(dirname)\n",
    "allruns.head()"
   ]
  },
  {
   "cell_type": "code",
   "execution_count": 119,
   "metadata": {},
   "outputs": [
    {
     "data": {
      "text/plain": [
       "<AxesSubplot:xlabel='heart_rate_mean', ylabel='speed_mean'>"
      ]
     },
     "execution_count": 119,
     "metadata": {},
     "output_type": "execute_result"
    },
    {
     "data": {
      "image/png": "[encoded data removed]",
      "text/plain": [
       "<Figure size 432x288 with 1 Axes>"
      ]
     },
     "metadata": {
      "needs_background": "light"
     },
     "output_type": "display_data"
    }
   ],
   "source": [
    "allruns.plot.scatter('heart_rate_mean', 'speed_mean')"
   ]
  },
  {
   "cell_type": "code",
   "execution_count": 125,
   "metadata": {},
   "outputs": [
    {
     "data": {
      "text/plain": [
       "(1358, 9)"
      ]
     },
     "execution_count": 125,
     "metadata": {},
     "output_type": "execute_result"
    }
   ],
   "source": [
    "allruns.shape"
   ]
  },
  {
   "cell_type": "code",
   "execution_count": 135,
   "metadata": {},
   "outputs": [
    {
     "data": {
      "text/plain": [
       "301"
      ]
     },
     "execution_count": 135,
     "metadata": {},
     "output_type": "execute_result"
    }
   ],
   "source": [
    "allruns.duration[0].seconds"
   ]
  },
  {
   "cell_type": "code",
   "execution_count": 134,
   "metadata": {},
   "outputs": [
    {
     "data": {
      "text/html": [
       "<div>\n",
       "<style scoped>\n",
       "    .dataframe tbody tr th:only-of-type {\n",
       "        vertical-align: middle;\n",
       "    }\n",
       "\n",
       "    .dataframe tbody tr th {\n",
       "        vertical-align: top;\n",
       "    }\n",
       "\n",
       "    .dataframe thead th {\n",
       "        text-align: right;\n",
       "    }\n",
       "</style>\n",
       "<table border=\"1\" class=\"dataframe\">\n",
       "  <thead>\n",
       "    <tr style=\"text-align: right;\">\n",
       "      <th></th>\n",
       "      <th>position_lat</th>\n",
       "      <th>position_long</th>\n",
       "      <th>distance</th>\n",
       "      <th>enhanced_altitude</th>\n",
       "      <th>altitude</th>\n",
       "      <th>enhanced_speed</th>\n",
       "      <th>speed</th>\n",
       "      <th>heart_rate</th>\n",
       "      <th>cadence</th>\n",
       "      <th>fractional_cadence</th>\n",
       "    </tr>\n",
       "    <tr>\n",
       "      <th>timestamp</th>\n",
       "      <th></th>\n",
       "      <th></th>\n",
       "      <th></th>\n",
       "      <th></th>\n",
       "      <th></th>\n",
       "      <th></th>\n",
       "      <th></th>\n",
       "      <th></th>\n",
       "      <th></th>\n",
       "      <th></th>\n",
       "    </tr>\n",
       "  </thead>\n",
       "  <tbody>\n",
       "    <tr>\n",
       "      <th>2017-01-24 08:57:52+00:00</th>\n",
       "      <td>-406150875</td>\n",
       "      <td>1803094105</td>\n",
       "      <td>0.83</td>\n",
       "      <td>4.2</td>\n",
       "      <td>4.2</td>\n",
       "      <td>1.754</td>\n",
       "      <td>1.754</td>\n",
       "      <td>35</td>\n",
       "      <td>53</td>\n",
       "      <td>0.0</td>\n",
       "    </tr>\n",
       "    <tr>\n",
       "      <th>2017-01-24 08:57:56+00:00</th>\n",
       "      <td>-406150167</td>\n",
       "      <td>1803094623</td>\n",
       "      <td>8.48</td>\n",
       "      <td>-2.6</td>\n",
       "      <td>-2.6</td>\n",
       "      <td>1.689</td>\n",
       "      <td>1.689</td>\n",
       "      <td>36</td>\n",
       "      <td>53</td>\n",
       "      <td>0.0</td>\n",
       "    </tr>\n",
       "    <tr>\n",
       "      <th>2017-01-24 08:57:59+00:00</th>\n",
       "      <td>-406148998</td>\n",
       "      <td>1803094952</td>\n",
       "      <td>19.58</td>\n",
       "      <td>-5.2</td>\n",
       "      <td>-5.2</td>\n",
       "      <td>1.875</td>\n",
       "      <td>1.875</td>\n",
       "      <td>40</td>\n",
       "      <td>86</td>\n",
       "      <td>0.0</td>\n",
       "    </tr>\n",
       "    <tr>\n",
       "      <th>2017-01-24 08:58:01+00:00</th>\n",
       "      <td>-406148285</td>\n",
       "      <td>1803094919</td>\n",
       "      <td>25.84</td>\n",
       "      <td>-8.6</td>\n",
       "      <td>-8.6</td>\n",
       "      <td>2.081</td>\n",
       "      <td>2.081</td>\n",
       "      <td>43</td>\n",
       "      <td>86</td>\n",
       "      <td>0.0</td>\n",
       "    </tr>\n",
       "    <tr>\n",
       "      <th>2017-01-24 08:58:05+00:00</th>\n",
       "      <td>-406146758</td>\n",
       "      <td>1803094992</td>\n",
       "      <td>40.00</td>\n",
       "      <td>-12.4</td>\n",
       "      <td>-12.4</td>\n",
       "      <td>2.333</td>\n",
       "      <td>2.333</td>\n",
       "      <td>47</td>\n",
       "      <td>86</td>\n",
       "      <td>0.0</td>\n",
       "    </tr>\n",
       "  </tbody>\n",
       "</table>\n",
       "</div>"
      ],
      "text/plain": [
       "                           position_lat  position_long  distance  \\\n",
       "timestamp                                                          \n",
       "2017-01-24 08:57:52+00:00    -406150875     1803094105      0.83   \n",
       "2017-01-24 08:57:56+00:00    -406150167     1803094623      8.48   \n",
       "2017-01-24 08:57:59+00:00    -406148998     1803094952     19.58   \n",
       "2017-01-24 08:58:01+00:00    -406148285     1803094919     25.84   \n",
       "2017-01-24 08:58:05+00:00    -406146758     1803094992     40.00   \n",
       "\n",
       "                           enhanced_altitude  altitude  enhanced_speed  speed  \\\n",
       "timestamp                                                                       \n",
       "2017-01-24 08:57:52+00:00                4.2       4.2           1.754  1.754   \n",
       "2017-01-24 08:57:56+00:00               -2.6      -2.6           1.689  1.689   \n",
       "2017-01-24 08:57:59+00:00               -5.2      -5.2           1.875  1.875   \n",
       "2017-01-24 08:58:01+00:00               -8.6      -8.6           2.081  2.081   \n",
       "2017-01-24 08:58:05+00:00              -12.4     -12.4           2.333  2.333   \n",
       "\n",
       "                           heart_rate  cadence  fractional_cadence  \n",
       "timestamp                                                           \n",
       "2017-01-24 08:57:52+00:00          35       53                 0.0  \n",
       "2017-01-24 08:57:56+00:00          36       53                 0.0  \n",
       "2017-01-24 08:57:59+00:00          40       86                 0.0  \n",
       "2017-01-24 08:58:01+00:00          43       86                 0.0  \n",
       "2017-01-24 08:58:05+00:00          47       86                 0.0  "
      ]
     },
     "execution_count": 134,
     "metadata": {},
     "output_type": "execute_result"
    }
   ],
   "source": [
    "df.head()"
   ]
  },
  {
   "cell_type": "code",
   "execution_count": null,
   "metadata": {},
   "outputs": [],
   "source": []
  }
 ],
 "metadata": {
  "interpreter": {
   "hash": "d4d1e4263499bec80672ea0156c357c1ee493ec2b1c70f0acce89fc37c4a6abe"
  },
  "kernelspec": {
   "display_name": "Python 3.9.7 ('base')",
   "language": "python",
   "name": "python3"
  },
  "language_info": {
   "codemirror_mode": {
    "name": "ipython",
    "version": 3
   },
   "file_extension": ".py",
   "mimetype": "text/x-python",
   "name": "python",
   "nbconvert_exporter": "python",
   "pygments_lexer": "ipython3",
   "version": "3.9.7"
  },
  "orig_nbformat": 4
 },
 "nbformat": 4,
 "nbformat_minor": 2
}
